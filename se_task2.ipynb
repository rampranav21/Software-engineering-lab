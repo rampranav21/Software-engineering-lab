{
  "nbformat": 4,
  "nbformat_minor": 0,
  "metadata": {
    "colab": {
      "provenance": [],
      "authorship_tag": "ABX9TyMVKsKRZJcWr7Q+uB3QPf6a",
      "include_colab_link": true
    },
    "kernelspec": {
      "name": "python3",
      "display_name": "Python 3"
    },
    "language_info": {
      "name": "python"
    }
  },
  "cells": [
    {
      "cell_type": "markdown",
      "metadata": {
        "id": "view-in-github",
        "colab_type": "text"
      },
      "source": [
        "<a href=\"https://colab.research.google.com/github/rampranav21/Software-engineering-lab/blob/main/se_task2.ipynb\" target=\"_parent\"><img src=\"https://colab.research.google.com/assets/colab-badge.svg\" alt=\"Open In Colab\"/></a>"
      ]
    },
    {
      "cell_type": "code",
      "execution_count": 1,
      "metadata": {
        "id": "4N9BTsE1ofsu"
      },
      "outputs": [],
      "source": [
        "def Temp_modeling(a,b,c,time):\n",
        "  temp = a*time**2 + b*time + c\n",
        "  return temp"
      ]
    },
    {
      "cell_type": "code",
      "source": [
        "#Hardcore variables\n",
        "a,b,c =0,1,2\n",
        "time = 5\n",
        "print(\"Hardcoded variables for weather modeling:\")\n",
        "print(\"Temperature for hardcoded temperature at a time\",time,\"hours\",Temp_modeling(a,b,c,time))\n"
      ],
      "metadata": {
        "colab": {
          "base_uri": "https://localhost:8080/"
        },
        "id": "vNrAKIYtqktz",
        "outputId": "b2f95875-757a-4eee-eff9-4e829db28684"
      },
      "execution_count": 2,
      "outputs": [
        {
          "output_type": "stream",
          "name": "stdout",
          "text": [
            "Hardcoded variables for weather modeling:\n",
            "Temperature for hardcoded temperature at a time 5 hours 7\n"
          ]
        }
      ]
    },
    {
      "cell_type": "code",
      "source": [
        "a=float(input(\"enter the value of a:\"))\n",
        "b=float(input(\"enter the value of b:\"))\n",
        "c=float(input(\"enter the value of c:\"))\n",
        "time=float(input(\"enter the value of time:\"))"
      ],
      "metadata": {
        "colab": {
          "base_uri": "https://localhost:8080/"
        },
        "id": "4aLxIEk4rkY8",
        "outputId": "c9268393-3f26-4af0-9203-bb5647ad2242"
      },
      "execution_count": 3,
      "outputs": [
        {
          "name": "stdout",
          "output_type": "stream",
          "text": [
            "enter the value of a:0.1\n",
            "enter the value of b:3\n",
            "enter the value of c:10\n",
            "enter the value of time:4\n"
          ]
        }
      ]
    },
    {
      "cell_type": "code",
      "source": [
        "#variables read from keyboard\n",
        "print(\"Hard-coded variables for weather modeling:\")\n",
        "print(\"Temperature for hardcoded temperature at a time\",time,\"hours:\",Temp_modeling(a,b,c,time))"
      ],
      "metadata": {
        "colab": {
          "base_uri": "https://localhost:8080/"
        },
        "id": "ZLyyXmDCry_S",
        "outputId": "0d847181-0c08-40b1-ee40-b4d6ed52cd54"
      },
      "execution_count": 4,
      "outputs": [
        {
          "output_type": "stream",
          "name": "stdout",
          "text": [
            "Hard-coded variables for weather modeling:\n",
            "Temperature for hardcoded temperature at a time 4.0 hours: 23.6\n"
          ]
        }
      ]
    },
    {
      "cell_type": "code",
      "source": [
        "#read from file\n",
        "def read_from_file(filename):\n",
        "  with open(filename, 'r') as file:\n",
        "    lines = file.readlines()\n",
        "  coefficients = [tuple(map(float,line.strip().split(','))) for line in lines]\n",
        "  return coefficients\n"
      ],
      "metadata": {
        "id": "k9kELPxHsKTT"
      },
      "execution_count": 6,
      "outputs": []
    },
    {
      "cell_type": "code",
      "source": [
        "#example:solve for a single set of inputs\n",
        "coefficients = read_from_file('/content/input1.txt')\n",
        "a,b,c,time = coefficients[0]\n",
        "temperature = Temp_modeling(a,b,c,time)\n",
        "print(\"read from a file for weather modeling:\")\n",
        "print(\"Temperature from keyboard coefficients at time\",time,\"hours:\",Temp_modeling(a,b,c,time))"
      ],
      "metadata": {
        "colab": {
          "base_uri": "https://localhost:8080/"
        },
        "id": "-rfjA-HJvbIL",
        "outputId": "28ae902a-54d1-42f4-bac5-faa1cc811394"
      },
      "execution_count": 9,
      "outputs": [
        {
          "output_type": "stream",
          "name": "stdout",
          "text": [
            "read from a file for weather modeling:\n",
            "Temperature from keyboard coefficients at time 2.0 hours: 8.4\n"
          ]
        }
      ]
    },
    {
      "cell_type": "code",
      "source": [
        "#solve for all sets in the files\n",
        "for idx, (a,b,c,time) in enumerate(coefficients):\n",
        "  temperature = Temp_modeling(a,b,c,time)\n",
        "  print(\"Temperature form keyboard coefficient at time\",time,\"hours:\",Temp_modeling(a,b,c,time))"
      ],
      "metadata": {
        "colab": {
          "base_uri": "https://localhost:8080/"
        },
        "id": "GdOwAG8rypr2",
        "outputId": "660fddbe-0a9e-44e5-ea05-851fac72d09f"
      },
      "execution_count": 10,
      "outputs": [
        {
          "output_type": "stream",
          "name": "stdout",
          "text": [
            "Temperature form keyboard coefficient at time 2.0 hours: 8.4\n",
            "Temperature form keyboard coefficient at time 6.0 hours: 59.0\n",
            "Temperature form keyboard coefficient at time 3.25 hours: 44.800000000000004\n"
          ]
        }
      ]
    }
  ]
}